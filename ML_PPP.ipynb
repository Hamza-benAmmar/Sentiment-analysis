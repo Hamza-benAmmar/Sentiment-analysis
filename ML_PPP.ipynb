{
  "nbformat": 4,
  "nbformat_minor": 0,
  "metadata": {
    "colab": {
      "provenance": [],
      "include_colab_link": true
    },
    "kernelspec": {
      "name": "python3",
      "display_name": "Python 3"
    },
    "language_info": {
      "name": "python"
    }
  },
  "cells": [
    {
      "cell_type": "markdown",
      "metadata": {
        "id": "view-in-github",
        "colab_type": "text"
      },
      "source": [
        "<a href=\"https://colab.research.google.com/github/Hamza-benAmmar/Sentiment-analysis-/blob/main/ML_PPP.ipynb\" target=\"_parent\"><img src=\"https://colab.research.google.com/assets/colab-badge.svg\" alt=\"Open In Colab\"/></a>"
      ]
    },
    {
      "cell_type": "code",
      "execution_count": null,
      "metadata": {
        "id": "kRQNTqQazvBt"
      },
      "outputs": [],
      "source": [
        "import pandas as pd\n",
        "data=pd.read_csv('/content/concatenated_data.csv')\n"
      ]
    },
    {
      "cell_type": "code",
      "source": [
        "import pandas as pd\n",
        "import re\n",
        "from nltk.corpus import stopwords\n",
        "from nltk.tokenize import word_tokenize\n",
        "import nltk\n",
        "\n",
        "from textblob import TextBlob\n",
        "from nltk.stem.porter import PorterStemmer\n",
        "nltk.download('stopwords')"
      ],
      "metadata": {
        "colab": {
          "base_uri": "https://localhost:8080/"
        },
        "id": "FYosOMqTz72u",
        "outputId": "7828f2e1-db87-44b3-8233-efebe8d9bd7b"
      },
      "execution_count": null,
      "outputs": [
        {
          "output_type": "stream",
          "name": "stderr",
          "text": [
            "[nltk_data] Downloading package stopwords to /root/nltk_data...\n",
            "[nltk_data]   Package stopwords is already up-to-date!\n"
          ]
        },
        {
          "output_type": "execute_result",
          "data": {
            "text/plain": [
              "True"
            ]
          },
          "metadata": {},
          "execution_count": 81
        }
      ]
    },
    {
      "cell_type": "code",
      "source": [
        "data=pd.read_csv('/content/concatenated_data.csv')\n",
        "\n",
        "data.head()"
      ],
      "metadata": {
        "colab": {
          "base_uri": "https://localhost:8080/",
          "height": 206
        },
        "id": "XrTdNGoERhMO",
        "outputId": "6946fc05-2215-4a21-8d1d-b526f0baf8b7"
      },
      "execution_count": null,
      "outputs": [
        {
          "output_type": "execute_result",
          "data": {
            "text/plain": [
              "  sentiment                                            content\n",
              "0   sadness                            i didnt feel humiliated\n",
              "1   sadness  i can go from feeling so hopeless to so damned...\n",
              "2     anger   im grabbing a minute to post i feel greedy wrong\n",
              "3      love  i am ever feeling nostalgic about the fireplac...\n",
              "4     anger                               i am feeling grouchy"
            ],
            "text/html": [
              "\n",
              "  <div id=\"df-27d1ee92-b2d2-4420-986c-7cd148175fb1\">\n",
              "    <div class=\"colab-df-container\">\n",
              "      <div>\n",
              "<style scoped>\n",
              "    .dataframe tbody tr th:only-of-type {\n",
              "        vertical-align: middle;\n",
              "    }\n",
              "\n",
              "    .dataframe tbody tr th {\n",
              "        vertical-align: top;\n",
              "    }\n",
              "\n",
              "    .dataframe thead th {\n",
              "        text-align: right;\n",
              "    }\n",
              "</style>\n",
              "<table border=\"1\" class=\"dataframe\">\n",
              "  <thead>\n",
              "    <tr style=\"text-align: right;\">\n",
              "      <th></th>\n",
              "      <th>sentiment</th>\n",
              "      <th>content</th>\n",
              "    </tr>\n",
              "  </thead>\n",
              "  <tbody>\n",
              "    <tr>\n",
              "      <th>0</th>\n",
              "      <td>sadness</td>\n",
              "      <td>i didnt feel humiliated</td>\n",
              "    </tr>\n",
              "    <tr>\n",
              "      <th>1</th>\n",
              "      <td>sadness</td>\n",
              "      <td>i can go from feeling so hopeless to so damned...</td>\n",
              "    </tr>\n",
              "    <tr>\n",
              "      <th>2</th>\n",
              "      <td>anger</td>\n",
              "      <td>im grabbing a minute to post i feel greedy wrong</td>\n",
              "    </tr>\n",
              "    <tr>\n",
              "      <th>3</th>\n",
              "      <td>love</td>\n",
              "      <td>i am ever feeling nostalgic about the fireplac...</td>\n",
              "    </tr>\n",
              "    <tr>\n",
              "      <th>4</th>\n",
              "      <td>anger</td>\n",
              "      <td>i am feeling grouchy</td>\n",
              "    </tr>\n",
              "  </tbody>\n",
              "</table>\n",
              "</div>\n",
              "      <button class=\"colab-df-convert\" onclick=\"convertToInteractive('df-27d1ee92-b2d2-4420-986c-7cd148175fb1')\"\n",
              "              title=\"Convert this dataframe to an interactive table.\"\n",
              "              style=\"display:none;\">\n",
              "        \n",
              "  <svg xmlns=\"http://www.w3.org/2000/svg\" height=\"24px\"viewBox=\"0 0 24 24\"\n",
              "       width=\"24px\">\n",
              "    <path d=\"M0 0h24v24H0V0z\" fill=\"none\"/>\n",
              "    <path d=\"M18.56 5.44l.94 2.06.94-2.06 2.06-.94-2.06-.94-.94-2.06-.94 2.06-2.06.94zm-11 1L8.5 8.5l.94-2.06 2.06-.94-2.06-.94L8.5 2.5l-.94 2.06-2.06.94zm10 10l.94 2.06.94-2.06 2.06-.94-2.06-.94-.94-2.06-.94 2.06-2.06.94z\"/><path d=\"M17.41 7.96l-1.37-1.37c-.4-.4-.92-.59-1.43-.59-.52 0-1.04.2-1.43.59L10.3 9.45l-7.72 7.72c-.78.78-.78 2.05 0 2.83L4 21.41c.39.39.9.59 1.41.59.51 0 1.02-.2 1.41-.59l7.78-7.78 2.81-2.81c.8-.78.8-2.07 0-2.86zM5.41 20L4 18.59l7.72-7.72 1.47 1.35L5.41 20z\"/>\n",
              "  </svg>\n",
              "      </button>\n",
              "      \n",
              "  <style>\n",
              "    .colab-df-container {\n",
              "      display:flex;\n",
              "      flex-wrap:wrap;\n",
              "      gap: 12px;\n",
              "    }\n",
              "\n",
              "    .colab-df-convert {\n",
              "      background-color: #E8F0FE;\n",
              "      border: none;\n",
              "      border-radius: 50%;\n",
              "      cursor: pointer;\n",
              "      display: none;\n",
              "      fill: #1967D2;\n",
              "      height: 32px;\n",
              "      padding: 0 0 0 0;\n",
              "      width: 32px;\n",
              "    }\n",
              "\n",
              "    .colab-df-convert:hover {\n",
              "      background-color: #E2EBFA;\n",
              "      box-shadow: 0px 1px 2px rgba(60, 64, 67, 0.3), 0px 1px 3px 1px rgba(60, 64, 67, 0.15);\n",
              "      fill: #174EA6;\n",
              "    }\n",
              "\n",
              "    [theme=dark] .colab-df-convert {\n",
              "      background-color: #3B4455;\n",
              "      fill: #D2E3FC;\n",
              "    }\n",
              "\n",
              "    [theme=dark] .colab-df-convert:hover {\n",
              "      background-color: #434B5C;\n",
              "      box-shadow: 0px 1px 3px 1px rgba(0, 0, 0, 0.15);\n",
              "      filter: drop-shadow(0px 1px 2px rgba(0, 0, 0, 0.3));\n",
              "      fill: #FFFFFF;\n",
              "    }\n",
              "  </style>\n",
              "\n",
              "      <script>\n",
              "        const buttonEl =\n",
              "          document.querySelector('#df-27d1ee92-b2d2-4420-986c-7cd148175fb1 button.colab-df-convert');\n",
              "        buttonEl.style.display =\n",
              "          google.colab.kernel.accessAllowed ? 'block' : 'none';\n",
              "\n",
              "        async function convertToInteractive(key) {\n",
              "          const element = document.querySelector('#df-27d1ee92-b2d2-4420-986c-7cd148175fb1');\n",
              "          const dataTable =\n",
              "            await google.colab.kernel.invokeFunction('convertToInteractive',\n",
              "                                                     [key], {});\n",
              "          if (!dataTable) return;\n",
              "\n",
              "          const docLinkHtml = 'Like what you see? Visit the ' +\n",
              "            '<a target=\"_blank\" href=https://colab.research.google.com/notebooks/data_table.ipynb>data table notebook</a>'\n",
              "            + ' to learn more about interactive tables.';\n",
              "          element.innerHTML = '';\n",
              "          dataTable['output_type'] = 'display_data';\n",
              "          await google.colab.output.renderOutput(dataTable, element);\n",
              "          const docLink = document.createElement('div');\n",
              "          docLink.innerHTML = docLinkHtml;\n",
              "          element.appendChild(docLink);\n",
              "        }\n",
              "      </script>\n",
              "    </div>\n",
              "  </div>\n",
              "  "
            ]
          },
          "metadata": {},
          "execution_count": 82
        }
      ]
    },
    {
      "cell_type": "code",
      "source": [
        "data['content'] = data['content'].apply(lambda a: \" \".join(a.lower() for a in a.split()))\n",
        "data.head()"
      ],
      "metadata": {
        "colab": {
          "base_uri": "https://localhost:8080/",
          "height": 206
        },
        "id": "Jv17rKku0Ihr",
        "outputId": "8809e130-833c-41be-bdd9-27a2b0edff11"
      },
      "execution_count": null,
      "outputs": [
        {
          "output_type": "execute_result",
          "data": {
            "text/plain": [
              "  sentiment                                            content\n",
              "0   sadness                            i didnt feel humiliated\n",
              "1   sadness  i can go from feeling so hopeless to so damned...\n",
              "2     anger   im grabbing a minute to post i feel greedy wrong\n",
              "3      love  i am ever feeling nostalgic about the fireplac...\n",
              "4     anger                               i am feeling grouchy"
            ],
            "text/html": [
              "\n",
              "  <div id=\"df-9e4a3b62-52b2-42b2-aab9-d54d1786ac8e\">\n",
              "    <div class=\"colab-df-container\">\n",
              "      <div>\n",
              "<style scoped>\n",
              "    .dataframe tbody tr th:only-of-type {\n",
              "        vertical-align: middle;\n",
              "    }\n",
              "\n",
              "    .dataframe tbody tr th {\n",
              "        vertical-align: top;\n",
              "    }\n",
              "\n",
              "    .dataframe thead th {\n",
              "        text-align: right;\n",
              "    }\n",
              "</style>\n",
              "<table border=\"1\" class=\"dataframe\">\n",
              "  <thead>\n",
              "    <tr style=\"text-align: right;\">\n",
              "      <th></th>\n",
              "      <th>sentiment</th>\n",
              "      <th>content</th>\n",
              "    </tr>\n",
              "  </thead>\n",
              "  <tbody>\n",
              "    <tr>\n",
              "      <th>0</th>\n",
              "      <td>sadness</td>\n",
              "      <td>i didnt feel humiliated</td>\n",
              "    </tr>\n",
              "    <tr>\n",
              "      <th>1</th>\n",
              "      <td>sadness</td>\n",
              "      <td>i can go from feeling so hopeless to so damned...</td>\n",
              "    </tr>\n",
              "    <tr>\n",
              "      <th>2</th>\n",
              "      <td>anger</td>\n",
              "      <td>im grabbing a minute to post i feel greedy wrong</td>\n",
              "    </tr>\n",
              "    <tr>\n",
              "      <th>3</th>\n",
              "      <td>love</td>\n",
              "      <td>i am ever feeling nostalgic about the fireplac...</td>\n",
              "    </tr>\n",
              "    <tr>\n",
              "      <th>4</th>\n",
              "      <td>anger</td>\n",
              "      <td>i am feeling grouchy</td>\n",
              "    </tr>\n",
              "  </tbody>\n",
              "</table>\n",
              "</div>\n",
              "      <button class=\"colab-df-convert\" onclick=\"convertToInteractive('df-9e4a3b62-52b2-42b2-aab9-d54d1786ac8e')\"\n",
              "              title=\"Convert this dataframe to an interactive table.\"\n",
              "              style=\"display:none;\">\n",
              "        \n",
              "  <svg xmlns=\"http://www.w3.org/2000/svg\" height=\"24px\"viewBox=\"0 0 24 24\"\n",
              "       width=\"24px\">\n",
              "    <path d=\"M0 0h24v24H0V0z\" fill=\"none\"/>\n",
              "    <path d=\"M18.56 5.44l.94 2.06.94-2.06 2.06-.94-2.06-.94-.94-2.06-.94 2.06-2.06.94zm-11 1L8.5 8.5l.94-2.06 2.06-.94-2.06-.94L8.5 2.5l-.94 2.06-2.06.94zm10 10l.94 2.06.94-2.06 2.06-.94-2.06-.94-.94-2.06-.94 2.06-2.06.94z\"/><path d=\"M17.41 7.96l-1.37-1.37c-.4-.4-.92-.59-1.43-.59-.52 0-1.04.2-1.43.59L10.3 9.45l-7.72 7.72c-.78.78-.78 2.05 0 2.83L4 21.41c.39.39.9.59 1.41.59.51 0 1.02-.2 1.41-.59l7.78-7.78 2.81-2.81c.8-.78.8-2.07 0-2.86zM5.41 20L4 18.59l7.72-7.72 1.47 1.35L5.41 20z\"/>\n",
              "  </svg>\n",
              "      </button>\n",
              "      \n",
              "  <style>\n",
              "    .colab-df-container {\n",
              "      display:flex;\n",
              "      flex-wrap:wrap;\n",
              "      gap: 12px;\n",
              "    }\n",
              "\n",
              "    .colab-df-convert {\n",
              "      background-color: #E8F0FE;\n",
              "      border: none;\n",
              "      border-radius: 50%;\n",
              "      cursor: pointer;\n",
              "      display: none;\n",
              "      fill: #1967D2;\n",
              "      height: 32px;\n",
              "      padding: 0 0 0 0;\n",
              "      width: 32px;\n",
              "    }\n",
              "\n",
              "    .colab-df-convert:hover {\n",
              "      background-color: #E2EBFA;\n",
              "      box-shadow: 0px 1px 2px rgba(60, 64, 67, 0.3), 0px 1px 3px 1px rgba(60, 64, 67, 0.15);\n",
              "      fill: #174EA6;\n",
              "    }\n",
              "\n",
              "    [theme=dark] .colab-df-convert {\n",
              "      background-color: #3B4455;\n",
              "      fill: #D2E3FC;\n",
              "    }\n",
              "\n",
              "    [theme=dark] .colab-df-convert:hover {\n",
              "      background-color: #434B5C;\n",
              "      box-shadow: 0px 1px 3px 1px rgba(0, 0, 0, 0.15);\n",
              "      filter: drop-shadow(0px 1px 2px rgba(0, 0, 0, 0.3));\n",
              "      fill: #FFFFFF;\n",
              "    }\n",
              "  </style>\n",
              "\n",
              "      <script>\n",
              "        const buttonEl =\n",
              "          document.querySelector('#df-9e4a3b62-52b2-42b2-aab9-d54d1786ac8e button.colab-df-convert');\n",
              "        buttonEl.style.display =\n",
              "          google.colab.kernel.accessAllowed ? 'block' : 'none';\n",
              "\n",
              "        async function convertToInteractive(key) {\n",
              "          const element = document.querySelector('#df-9e4a3b62-52b2-42b2-aab9-d54d1786ac8e');\n",
              "          const dataTable =\n",
              "            await google.colab.kernel.invokeFunction('convertToInteractive',\n",
              "                                                     [key], {});\n",
              "          if (!dataTable) return;\n",
              "\n",
              "          const docLinkHtml = 'Like what you see? Visit the ' +\n",
              "            '<a target=\"_blank\" href=https://colab.research.google.com/notebooks/data_table.ipynb>data table notebook</a>'\n",
              "            + ' to learn more about interactive tables.';\n",
              "          element.innerHTML = '';\n",
              "          dataTable['output_type'] = 'display_data';\n",
              "          await google.colab.output.renderOutput(dataTable, element);\n",
              "          const docLink = document.createElement('div');\n",
              "          docLink.innerHTML = docLinkHtml;\n",
              "          element.appendChild(docLink);\n",
              "        }\n",
              "      </script>\n",
              "    </div>\n",
              "  </div>\n",
              "  "
            ]
          },
          "metadata": {},
          "execution_count": 83
        }
      ]
    },
    {
      "cell_type": "code",
      "source": [
        "data['content'] = data['content'].apply(lambda a : \" \".join(a.replace('[^\\w\\s]','') for a in a.split()))\n",
        "data.head()"
      ],
      "metadata": {
        "colab": {
          "base_uri": "https://localhost:8080/",
          "height": 206
        },
        "id": "Ivn02KKv0PXm",
        "outputId": "b8dd39b3-8204-4938-f016-00bb2a972e7f"
      },
      "execution_count": null,
      "outputs": [
        {
          "output_type": "execute_result",
          "data": {
            "text/plain": [
              "  sentiment                                            content\n",
              "0   sadness                            i didnt feel humiliated\n",
              "1   sadness  i can go from feeling so hopeless to so damned...\n",
              "2     anger   im grabbing a minute to post i feel greedy wrong\n",
              "3      love  i am ever feeling nostalgic about the fireplac...\n",
              "4     anger                               i am feeling grouchy"
            ],
            "text/html": [
              "\n",
              "  <div id=\"df-8ca7601a-3184-4aac-81de-0d370fc2a9a4\">\n",
              "    <div class=\"colab-df-container\">\n",
              "      <div>\n",
              "<style scoped>\n",
              "    .dataframe tbody tr th:only-of-type {\n",
              "        vertical-align: middle;\n",
              "    }\n",
              "\n",
              "    .dataframe tbody tr th {\n",
              "        vertical-align: top;\n",
              "    }\n",
              "\n",
              "    .dataframe thead th {\n",
              "        text-align: right;\n",
              "    }\n",
              "</style>\n",
              "<table border=\"1\" class=\"dataframe\">\n",
              "  <thead>\n",
              "    <tr style=\"text-align: right;\">\n",
              "      <th></th>\n",
              "      <th>sentiment</th>\n",
              "      <th>content</th>\n",
              "    </tr>\n",
              "  </thead>\n",
              "  <tbody>\n",
              "    <tr>\n",
              "      <th>0</th>\n",
              "      <td>sadness</td>\n",
              "      <td>i didnt feel humiliated</td>\n",
              "    </tr>\n",
              "    <tr>\n",
              "      <th>1</th>\n",
              "      <td>sadness</td>\n",
              "      <td>i can go from feeling so hopeless to so damned...</td>\n",
              "    </tr>\n",
              "    <tr>\n",
              "      <th>2</th>\n",
              "      <td>anger</td>\n",
              "      <td>im grabbing a minute to post i feel greedy wrong</td>\n",
              "    </tr>\n",
              "    <tr>\n",
              "      <th>3</th>\n",
              "      <td>love</td>\n",
              "      <td>i am ever feeling nostalgic about the fireplac...</td>\n",
              "    </tr>\n",
              "    <tr>\n",
              "      <th>4</th>\n",
              "      <td>anger</td>\n",
              "      <td>i am feeling grouchy</td>\n",
              "    </tr>\n",
              "  </tbody>\n",
              "</table>\n",
              "</div>\n",
              "      <button class=\"colab-df-convert\" onclick=\"convertToInteractive('df-8ca7601a-3184-4aac-81de-0d370fc2a9a4')\"\n",
              "              title=\"Convert this dataframe to an interactive table.\"\n",
              "              style=\"display:none;\">\n",
              "        \n",
              "  <svg xmlns=\"http://www.w3.org/2000/svg\" height=\"24px\"viewBox=\"0 0 24 24\"\n",
              "       width=\"24px\">\n",
              "    <path d=\"M0 0h24v24H0V0z\" fill=\"none\"/>\n",
              "    <path d=\"M18.56 5.44l.94 2.06.94-2.06 2.06-.94-2.06-.94-.94-2.06-.94 2.06-2.06.94zm-11 1L8.5 8.5l.94-2.06 2.06-.94-2.06-.94L8.5 2.5l-.94 2.06-2.06.94zm10 10l.94 2.06.94-2.06 2.06-.94-2.06-.94-.94-2.06-.94 2.06-2.06.94z\"/><path d=\"M17.41 7.96l-1.37-1.37c-.4-.4-.92-.59-1.43-.59-.52 0-1.04.2-1.43.59L10.3 9.45l-7.72 7.72c-.78.78-.78 2.05 0 2.83L4 21.41c.39.39.9.59 1.41.59.51 0 1.02-.2 1.41-.59l7.78-7.78 2.81-2.81c.8-.78.8-2.07 0-2.86zM5.41 20L4 18.59l7.72-7.72 1.47 1.35L5.41 20z\"/>\n",
              "  </svg>\n",
              "      </button>\n",
              "      \n",
              "  <style>\n",
              "    .colab-df-container {\n",
              "      display:flex;\n",
              "      flex-wrap:wrap;\n",
              "      gap: 12px;\n",
              "    }\n",
              "\n",
              "    .colab-df-convert {\n",
              "      background-color: #E8F0FE;\n",
              "      border: none;\n",
              "      border-radius: 50%;\n",
              "      cursor: pointer;\n",
              "      display: none;\n",
              "      fill: #1967D2;\n",
              "      height: 32px;\n",
              "      padding: 0 0 0 0;\n",
              "      width: 32px;\n",
              "    }\n",
              "\n",
              "    .colab-df-convert:hover {\n",
              "      background-color: #E2EBFA;\n",
              "      box-shadow: 0px 1px 2px rgba(60, 64, 67, 0.3), 0px 1px 3px 1px rgba(60, 64, 67, 0.15);\n",
              "      fill: #174EA6;\n",
              "    }\n",
              "\n",
              "    [theme=dark] .colab-df-convert {\n",
              "      background-color: #3B4455;\n",
              "      fill: #D2E3FC;\n",
              "    }\n",
              "\n",
              "    [theme=dark] .colab-df-convert:hover {\n",
              "      background-color: #434B5C;\n",
              "      box-shadow: 0px 1px 3px 1px rgba(0, 0, 0, 0.15);\n",
              "      filter: drop-shadow(0px 1px 2px rgba(0, 0, 0, 0.3));\n",
              "      fill: #FFFFFF;\n",
              "    }\n",
              "  </style>\n",
              "\n",
              "      <script>\n",
              "        const buttonEl =\n",
              "          document.querySelector('#df-8ca7601a-3184-4aac-81de-0d370fc2a9a4 button.colab-df-convert');\n",
              "        buttonEl.style.display =\n",
              "          google.colab.kernel.accessAllowed ? 'block' : 'none';\n",
              "\n",
              "        async function convertToInteractive(key) {\n",
              "          const element = document.querySelector('#df-8ca7601a-3184-4aac-81de-0d370fc2a9a4');\n",
              "          const dataTable =\n",
              "            await google.colab.kernel.invokeFunction('convertToInteractive',\n",
              "                                                     [key], {});\n",
              "          if (!dataTable) return;\n",
              "\n",
              "          const docLinkHtml = 'Like what you see? Visit the ' +\n",
              "            '<a target=\"_blank\" href=https://colab.research.google.com/notebooks/data_table.ipynb>data table notebook</a>'\n",
              "            + ' to learn more about interactive tables.';\n",
              "          element.innerHTML = '';\n",
              "          dataTable['output_type'] = 'display_data';\n",
              "          await google.colab.output.renderOutput(dataTable, element);\n",
              "          const docLink = document.createElement('div');\n",
              "          docLink.innerHTML = docLinkHtml;\n",
              "          element.appendChild(docLink);\n",
              "        }\n",
              "      </script>\n",
              "    </div>\n",
              "  </div>\n",
              "  "
            ]
          },
          "metadata": {},
          "execution_count": 84
        }
      ]
    },
    {
      "cell_type": "code",
      "source": [
        "stop = stopwords.words('english')\n",
        "data['content']=data['content'].apply(lambda a: \" \".join(a for a in a.split() if a not in stop))\n",
        "data.head()"
      ],
      "metadata": {
        "colab": {
          "base_uri": "https://localhost:8080/",
          "height": 206
        },
        "id": "FPKfixOy0VLc",
        "outputId": "23aaad37-3120-490d-b6f6-9898f6d8fc3b"
      },
      "execution_count": null,
      "outputs": [
        {
          "output_type": "execute_result",
          "data": {
            "text/plain": [
              "  sentiment                                            content\n",
              "0   sadness                              didnt feel humiliated\n",
              "1   sadness  go feeling hopeless damned hopeful around some...\n",
              "2     anger          im grabbing minute post feel greedy wrong\n",
              "3      love  ever feeling nostalgic fireplace know still pr...\n",
              "4     anger                                    feeling grouchy"
            ],
            "text/html": [
              "\n",
              "  <div id=\"df-eb8735a7-f723-4d4d-97f5-73f10727f197\">\n",
              "    <div class=\"colab-df-container\">\n",
              "      <div>\n",
              "<style scoped>\n",
              "    .dataframe tbody tr th:only-of-type {\n",
              "        vertical-align: middle;\n",
              "    }\n",
              "\n",
              "    .dataframe tbody tr th {\n",
              "        vertical-align: top;\n",
              "    }\n",
              "\n",
              "    .dataframe thead th {\n",
              "        text-align: right;\n",
              "    }\n",
              "</style>\n",
              "<table border=\"1\" class=\"dataframe\">\n",
              "  <thead>\n",
              "    <tr style=\"text-align: right;\">\n",
              "      <th></th>\n",
              "      <th>sentiment</th>\n",
              "      <th>content</th>\n",
              "    </tr>\n",
              "  </thead>\n",
              "  <tbody>\n",
              "    <tr>\n",
              "      <th>0</th>\n",
              "      <td>sadness</td>\n",
              "      <td>didnt feel humiliated</td>\n",
              "    </tr>\n",
              "    <tr>\n",
              "      <th>1</th>\n",
              "      <td>sadness</td>\n",
              "      <td>go feeling hopeless damned hopeful around some...</td>\n",
              "    </tr>\n",
              "    <tr>\n",
              "      <th>2</th>\n",
              "      <td>anger</td>\n",
              "      <td>im grabbing minute post feel greedy wrong</td>\n",
              "    </tr>\n",
              "    <tr>\n",
              "      <th>3</th>\n",
              "      <td>love</td>\n",
              "      <td>ever feeling nostalgic fireplace know still pr...</td>\n",
              "    </tr>\n",
              "    <tr>\n",
              "      <th>4</th>\n",
              "      <td>anger</td>\n",
              "      <td>feeling grouchy</td>\n",
              "    </tr>\n",
              "  </tbody>\n",
              "</table>\n",
              "</div>\n",
              "      <button class=\"colab-df-convert\" onclick=\"convertToInteractive('df-eb8735a7-f723-4d4d-97f5-73f10727f197')\"\n",
              "              title=\"Convert this dataframe to an interactive table.\"\n",
              "              style=\"display:none;\">\n",
              "        \n",
              "  <svg xmlns=\"http://www.w3.org/2000/svg\" height=\"24px\"viewBox=\"0 0 24 24\"\n",
              "       width=\"24px\">\n",
              "    <path d=\"M0 0h24v24H0V0z\" fill=\"none\"/>\n",
              "    <path d=\"M18.56 5.44l.94 2.06.94-2.06 2.06-.94-2.06-.94-.94-2.06-.94 2.06-2.06.94zm-11 1L8.5 8.5l.94-2.06 2.06-.94-2.06-.94L8.5 2.5l-.94 2.06-2.06.94zm10 10l.94 2.06.94-2.06 2.06-.94-2.06-.94-.94-2.06-.94 2.06-2.06.94z\"/><path d=\"M17.41 7.96l-1.37-1.37c-.4-.4-.92-.59-1.43-.59-.52 0-1.04.2-1.43.59L10.3 9.45l-7.72 7.72c-.78.78-.78 2.05 0 2.83L4 21.41c.39.39.9.59 1.41.59.51 0 1.02-.2 1.41-.59l7.78-7.78 2.81-2.81c.8-.78.8-2.07 0-2.86zM5.41 20L4 18.59l7.72-7.72 1.47 1.35L5.41 20z\"/>\n",
              "  </svg>\n",
              "      </button>\n",
              "      \n",
              "  <style>\n",
              "    .colab-df-container {\n",
              "      display:flex;\n",
              "      flex-wrap:wrap;\n",
              "      gap: 12px;\n",
              "    }\n",
              "\n",
              "    .colab-df-convert {\n",
              "      background-color: #E8F0FE;\n",
              "      border: none;\n",
              "      border-radius: 50%;\n",
              "      cursor: pointer;\n",
              "      display: none;\n",
              "      fill: #1967D2;\n",
              "      height: 32px;\n",
              "      padding: 0 0 0 0;\n",
              "      width: 32px;\n",
              "    }\n",
              "\n",
              "    .colab-df-convert:hover {\n",
              "      background-color: #E2EBFA;\n",
              "      box-shadow: 0px 1px 2px rgba(60, 64, 67, 0.3), 0px 1px 3px 1px rgba(60, 64, 67, 0.15);\n",
              "      fill: #174EA6;\n",
              "    }\n",
              "\n",
              "    [theme=dark] .colab-df-convert {\n",
              "      background-color: #3B4455;\n",
              "      fill: #D2E3FC;\n",
              "    }\n",
              "\n",
              "    [theme=dark] .colab-df-convert:hover {\n",
              "      background-color: #434B5C;\n",
              "      box-shadow: 0px 1px 3px 1px rgba(0, 0, 0, 0.15);\n",
              "      filter: drop-shadow(0px 1px 2px rgba(0, 0, 0, 0.3));\n",
              "      fill: #FFFFFF;\n",
              "    }\n",
              "  </style>\n",
              "\n",
              "      <script>\n",
              "        const buttonEl =\n",
              "          document.querySelector('#df-eb8735a7-f723-4d4d-97f5-73f10727f197 button.colab-df-convert');\n",
              "        buttonEl.style.display =\n",
              "          google.colab.kernel.accessAllowed ? 'block' : 'none';\n",
              "\n",
              "        async function convertToInteractive(key) {\n",
              "          const element = document.querySelector('#df-eb8735a7-f723-4d4d-97f5-73f10727f197');\n",
              "          const dataTable =\n",
              "            await google.colab.kernel.invokeFunction('convertToInteractive',\n",
              "                                                     [key], {});\n",
              "          if (!dataTable) return;\n",
              "\n",
              "          const docLinkHtml = 'Like what you see? Visit the ' +\n",
              "            '<a target=\"_blank\" href=https://colab.research.google.com/notebooks/data_table.ipynb>data table notebook</a>'\n",
              "            + ' to learn more about interactive tables.';\n",
              "          element.innerHTML = '';\n",
              "          dataTable['output_type'] = 'display_data';\n",
              "          await google.colab.output.renderOutput(dataTable, element);\n",
              "          const docLink = document.createElement('div');\n",
              "          docLink.innerHTML = docLinkHtml;\n",
              "          element.appendChild(docLink);\n",
              "        }\n",
              "      </script>\n",
              "    </div>\n",
              "  </div>\n",
              "  "
            ]
          },
          "metadata": {},
          "execution_count": 85
        }
      ]
    },
    {
      "cell_type": "code",
      "source": [
        "data['sentiment']=data['sentiment'].apply(lambda x:'guilt' if x=='guit' else x)\n",
        "data=data.iloc[:,0:2]\n",
        "data['sentiment'].value_counts()"
      ],
      "metadata": {
        "colab": {
          "base_uri": "https://localhost:8080/"
        },
        "id": "GEi6rK9V133u",
        "outputId": "fa68367c-d9d2-45ca-a8bf-477791e2fea4"
      },
      "execution_count": null,
      "outputs": [
        {
          "output_type": "execute_result",
          "data": {
            "text/plain": [
              "joy         6761\n",
              "sadness     5797\n",
              "anger       2709\n",
              "fear        2373\n",
              "love        1641\n",
              "surprise     719\n",
              "Name: sentiment, dtype: int64"
            ]
          },
          "metadata": {},
          "execution_count": 86
        }
      ]
    },
    {
      "cell_type": "code",
      "source": [
        "from sklearn.preprocessing import LabelEncoder\n",
        "object = LabelEncoder()\n",
        "data['sentiment'] = object.fit_transform(data['sentiment'])\n",
        "data['sentiment'].value_counts()"
      ],
      "metadata": {
        "colab": {
          "base_uri": "https://localhost:8080/"
        },
        "id": "-6CdjBBt252e",
        "outputId": "18155c72-ebfd-42f5-96d4-738eef8ad218"
      },
      "execution_count": null,
      "outputs": [
        {
          "output_type": "execute_result",
          "data": {
            "text/plain": [
              "2    6761\n",
              "4    5797\n",
              "0    2709\n",
              "1    2373\n",
              "3    1641\n",
              "5     719\n",
              "Name: sentiment, dtype: int64"
            ]
          },
          "metadata": {},
          "execution_count": 87
        }
      ]
    },
    {
      "cell_type": "code",
      "source": [
        "from sklearn.model_selection import train_test_split\n",
        "Xtrain, Xtest,Ytrain,Ytest = train_test_split(data['content'],data['sentiment'],stratify= data['sentiment'])"
      ],
      "metadata": {
        "id": "DHC4Rvpd28QV"
      },
      "execution_count": null,
      "outputs": []
    },
    {
      "cell_type": "code",
      "source": [
        "from sklearn.feature_extraction.text import CountVectorizer\n",
        "cv = CountVectorizer()\n",
        "cv.fit(data['content'])\n",
        "cv_xtrain = cv.transform(Xtrain)\n",
        "cv_xtest = cv.transform(Xtest)"
      ],
      "metadata": {
        "id": "fBKF-jMW3KTg"
      },
      "execution_count": null,
      "outputs": []
    },
    {
      "cell_type": "code",
      "source": [
        "from sklearn.feature_extraction.text import TfidfVectorizer\n",
        "\n",
        "tv = TfidfVectorizer()\n",
        "tv.fit(data['content'])\n",
        "tv_xtrain = tv.transform(Xtrain)\n",
        "tv_xtest = tv.transform(Xtest)"
      ],
      "metadata": {
        "id": "VUg_yuUJ3NVW"
      },
      "execution_count": null,
      "outputs": []
    },
    {
      "cell_type": "code",
      "source": [
        "from sklearn import metrics\n",
        "\n",
        "def build(model_initializer, independent_variables_training, target, independent_variable_test):\n",
        "    model_initializer.fit(independent_variables_training, target)\n",
        "    modelPred = model_initializer.predict(independent_variable_test)\n",
        "    return metrics.accuracy_score(Ytest, modelPred)"
      ],
      "metadata": {
        "id": "m7niSsMu3Qso"
      },
      "execution_count": null,
      "outputs": []
    },
    {
      "cell_type": "code",
      "source": [
        "from sklearn import naive_bayes\n",
        "from sklearn import metrics\n",
        "\n",
        "output = build(naive_bayes.MultinomialNB(), cv_xtrain, Ytrain , cv_xtest)\n",
        "print(\"Accuracy using count vectorizer: \",output)\n"
      ],
      "metadata": {
        "colab": {
          "base_uri": "https://localhost:8080/"
        },
        "id": "NtxjdecM3Svo",
        "outputId": "b03fca7a-b611-4a2b-8ba3-27b7dd70bf8a"
      },
      "execution_count": null,
      "outputs": [
        {
          "output_type": "stream",
          "name": "stdout",
          "text": [
            "Accuracy using count vectorizer:  0.7702\n"
          ]
        }
      ]
    },
    {
      "cell_type": "code",
      "source": [
        "import matplotlib.pyplot as plt\n",
        "from sklearn import naive_bayes\n",
        "from sklearn.metrics import classification_report\n",
        "\n",
        "# Train the classifier\n",
        "classifier = naive_bayes.MultinomialNB().fit(cv_xtrain, Ytrain)\n",
        "\n",
        "# Make predictions\n",
        "val_predictions = classifier.predict(cv_xtest)\n",
        "y_true, y_pred = Ytest, val_predictions\n",
        "model_name=\"Naive Bayes Count Vectors\"\n",
        "# Generate classification report\n",
        "report = classification_report(y_true, y_pred, output_dict=True)\n",
        "print(classification_report(y_true, y_pred))\n",
        "\n",
        "# Extract precision, recall, and F1-score from the report\n",
        "classes = list(report.keys())[:-3]\n",
        "custom_labels = ['Anger', 'Fear', 'Joy', 'Love', 'Sadness', 'Surprise']\n",
        "precision = [report[class_name]['precision'] for class_name in classes]\n",
        "recall = [report[class_name]['recall'] for class_name in classes]\n",
        "f1_score = [report[class_name]['f1-score'] for class_name in classes]\n",
        "\n",
        "# Plotting the results\n",
        "x = np.arange(len(classes))\n",
        "width = 0.3\n",
        "\n",
        "fig, ax = plt.subplots()\n",
        "rects1 = ax.bar(x - width, precision, width, label='Precision')\n",
        "rects2 = ax.bar(x, recall, width, label='Recall')\n",
        "rects3 = ax.bar(x + width, f1_score, width, label='F1-Score')\n",
        "\n",
        "ax.set_ylabel('Score')\n",
        "ax.set_title(model_name+': Classification Metrics')\n",
        "ax.set_xticks(x)\n",
        "ax.set_xticklabels(custom_labels)\n",
        "ax.legend()\n",
        "\n",
        "plt.show()"
      ],
      "metadata": {
        "colab": {
          "base_uri": "https://localhost:8080/",
          "height": 678
        },
        "id": "tWN-QybAs3me",
        "outputId": "7f057afa-13d4-4662-b9ee-c226f236ab36"
      },
      "execution_count": null,
      "outputs": [
        {
          "output_type": "stream",
          "name": "stdout",
          "text": [
            "              precision    recall  f1-score   support\n",
            "\n",
            "           0       0.88      0.67      0.76       678\n",
            "           1       0.81      0.55      0.66       593\n",
            "           2       0.76      0.93      0.84      1690\n",
            "           3       0.81      0.29      0.42       410\n",
            "           4       0.74      0.94      0.83      1449\n",
            "           5       0.76      0.07      0.13       180\n",
            "\n",
            "    accuracy                           0.77      5000\n",
            "   macro avg       0.79      0.58      0.61      5000\n",
            "weighted avg       0.78      0.77      0.74      5000\n",
            "\n"
          ]
        },
        {
          "output_type": "display_data",
          "data": {
            "text/plain": [
              "<Figure size 640x480 with 1 Axes>"
            ],
            "image/png": "[encoded data removed]"
          },
          "metadata": {}
        }
      ]
    },
    {
      "cell_type": "code",
      "source": [
        "from sklearn import naive_bayes\n",
        "from sklearn import metrics\n",
        "\n",
        "output = build(naive_bayes.MultinomialNB(), tv_xtrain, Ytrain , tv_xtest)\n",
        "print(\"Accuracy using count tfidf: \",output)"
      ],
      "metadata": {
        "colab": {
          "base_uri": "https://localhost:8080/"
        },
        "id": "aZ1bWl8v3WSc",
        "outputId": "09cdb268-7a57-45e9-8dfa-66597d3eaeae"
      },
      "execution_count": null,
      "outputs": [
        {
          "output_type": "stream",
          "name": "stdout",
          "text": [
            "Accuracy using count tfidf:  0.6618\n"
          ]
        }
      ]
    },
    {
      "cell_type": "code",
      "source": [
        "\n",
        "# Train the classifier\n",
        "classifier = naive_bayes.MultinomialNB().fit(tv_xtrain, Ytrain)\n",
        "\n",
        "# Make predictions\n",
        "val_predictions = classifier.predict(tv_xtest)\n",
        "y_true, y_pred = Ytest, val_predictions\n",
        "model_name=\"Naive Bayes TF-IDF\"\n",
        "# Generate classification report\n",
        "report = classification_report(y_true, y_pred, output_dict=True)\n",
        "print(classification_report(y_true, y_pred))\n",
        "custom_labels = ['Anger', 'Fear', 'Joy', 'Love', 'Sadness', 'Surprise']\n",
        "\n",
        "# Extract precision, recall, and F1-score from the report\n",
        "classes = list(report.keys())[:-3]\n",
        "precision = [report[class_name]['precision'] for class_name in classes]\n",
        "recall = [report[class_name]['recall'] for class_name in classes]\n",
        "f1_score = [report[class_name]['f1-score'] for class_name in classes]\n",
        "\n",
        "# Plotting the results\n",
        "x = np.arange(len(classes))\n",
        "width = 0.3\n",
        "\n",
        "fig, ax = plt.subplots()\n",
        "rects1 = ax.bar(x - width, precision, width, label='Precision')\n",
        "rects2 = ax.bar(x, recall, width, label='Recall')\n",
        "rects3 = ax.bar(x + width, f1_score, width, label='F1-Score')\n",
        "\n",
        "ax.set_ylabel('Score')\n",
        "ax.set_title(model_name+' : Classification Metrics')\n",
        "ax.set_xticks(x)\n",
        "ax.set_xticklabels(custom_labels)\n",
        "ax.legend()\n",
        "\n",
        "plt.show()"
      ],
      "metadata": {
        "colab": {
          "base_uri": "https://localhost:8080/",
          "height": 906
        },
        "id": "xmxT_oTSva9c",
        "outputId": "44b2b69d-7acd-4795-e0fd-acd3215e7a96"
      },
      "execution_count": null,
      "outputs": [
        {
          "output_type": "stream",
          "name": "stdout",
          "text": [
            "              precision    recall  f1-score   support\n",
            "\n",
            "           0       0.93      0.28      0.43       678\n",
            "           1       0.91      0.22      0.35       593\n",
            "           2       0.62      0.97      0.75      1690\n",
            "           3       1.00      0.03      0.06       410\n",
            "           4       0.67      0.92      0.78      1449\n",
            "           5       0.00      0.00      0.00       180\n",
            "\n",
            "    accuracy                           0.66      5000\n",
            "   macro avg       0.69      0.40      0.40      5000\n",
            "weighted avg       0.72      0.66      0.59      5000\n",
            "\n"
          ]
        },
        {
          "output_type": "stream",
          "name": "stderr",
          "text": [
            "/usr/local/lib/python3.10/dist-packages/sklearn/metrics/_classification.py:1344: UndefinedMetricWarning: Precision and F-score are ill-defined and being set to 0.0 in labels with no predicted samples. Use `zero_division` parameter to control this behavior.\n",
            "  _warn_prf(average, modifier, msg_start, len(result))\n",
            "/usr/local/lib/python3.10/dist-packages/sklearn/metrics/_classification.py:1344: UndefinedMetricWarning: Precision and F-score are ill-defined and being set to 0.0 in labels with no predicted samples. Use `zero_division` parameter to control this behavior.\n",
            "  _warn_prf(average, modifier, msg_start, len(result))\n",
            "/usr/local/lib/python3.10/dist-packages/sklearn/metrics/_classification.py:1344: UndefinedMetricWarning: Precision and F-score are ill-defined and being set to 0.0 in labels with no predicted samples. Use `zero_division` parameter to control this behavior.\n",
            "  _warn_prf(average, modifier, msg_start, len(result))\n",
            "/usr/local/lib/python3.10/dist-packages/sklearn/metrics/_classification.py:1344: UndefinedMetricWarning: Precision and F-score are ill-defined and being set to 0.0 in labels with no predicted samples. Use `zero_division` parameter to control this behavior.\n",
            "  _warn_prf(average, modifier, msg_start, len(result))\n",
            "/usr/local/lib/python3.10/dist-packages/sklearn/metrics/_classification.py:1344: UndefinedMetricWarning: Precision and F-score are ill-defined and being set to 0.0 in labels with no predicted samples. Use `zero_division` parameter to control this behavior.\n",
            "  _warn_prf(average, modifier, msg_start, len(result))\n",
            "/usr/local/lib/python3.10/dist-packages/sklearn/metrics/_classification.py:1344: UndefinedMetricWarning: Precision and F-score are ill-defined and being set to 0.0 in labels with no predicted samples. Use `zero_division` parameter to control this behavior.\n",
            "  _warn_prf(average, modifier, msg_start, len(result))\n"
          ]
        },
        {
          "output_type": "display_data",
          "data": {
            "text/plain": [
              "<Figure size 640x480 with 1 Axes>"
            ],
            "image/png": "[encoded data removed]"
          },
          "metadata": {}
        }
      ]
    },
    {
      "cell_type": "code",
      "source": [
        "from sklearn import linear_model\n",
        "from sklearn import metrics\n",
        "\n",
        "output = build(linear_model.LogisticRegression(), cv_xtrain, Ytrain , cv_xtest)\n",
        "print(\"Accuracy using count vectorizer: \",output)"
      ],
      "metadata": {
        "colab": {
          "base_uri": "https://localhost:8080/"
        },
        "id": "_fBo0Dge3XBO",
        "outputId": "38b37fbb-5caf-4513-9934-d3c5f6f94aff"
      },
      "execution_count": null,
      "outputs": [
        {
          "output_type": "stream",
          "name": "stdout",
          "text": [
            "Accuracy using count vectorizer:  0.89\n"
          ]
        },
        {
          "output_type": "stream",
          "name": "stderr",
          "text": [
            "/usr/local/lib/python3.10/dist-packages/sklearn/linear_model/_logistic.py:458: ConvergenceWarning: lbfgs failed to converge (status=1):\n",
            "STOP: TOTAL NO. of ITERATIONS REACHED LIMIT.\n",
            "\n",
            "Increase the number of iterations (max_iter) or scale the data as shown in:\n",
            "    https://scikit-learn.org/stable/modules/preprocessing.html\n",
            "Please also refer to the documentation for alternative solver options:\n",
            "    https://scikit-learn.org/stable/modules/linear_model.html#logistic-regression\n",
            "  n_iter_i = _check_optimize_result(\n"
          ]
        }
      ]
    },
    {
      "cell_type": "code",
      "source": [
        "\n",
        "# Train the classifier\n",
        "classifier = linear_model.LogisticRegression().fit(cv_xtrain, Ytrain)\n",
        "model_name = \"Logistic Regression Count Vectors\"\n",
        "\n",
        "# Make predictions\n",
        "val_predictions = classifier.predict(cv_xtest)\n",
        "y_true, y_pred = Ytest, val_predictions\n",
        "# Generate classification report\n",
        "report = classification_report(y_true, y_pred, output_dict=True)\n",
        "print(classification_report(y_true, y_pred))\n",
        "custom_labels = ['Anger', 'Fear', 'Joy', 'Love', 'Sadness', 'Surprise']\n",
        "\n",
        "\n",
        "# Extract precision, recall, and F1-score from the report\n",
        "classes = list(report.keys())[:-3]\n",
        "precision = [report[class_name]['precision'] for class_name in classes]\n",
        "recall = [report[class_name]['recall'] for class_name in classes]\n",
        "f1_score = [report[class_name]['f1-score'] for class_name in classes]\n",
        "\n",
        "# Plotting the results\n",
        "x = np.arange(len(classes))\n",
        "width = 0.3\n",
        "\n",
        "fig, ax = plt.subplots()\n",
        "rects1 = ax.bar(x - width, precision, width, label='Precision')\n",
        "rects2 = ax.bar(x, recall, width, label='Recall')\n",
        "rects3 = ax.bar(x + width, f1_score, width, label='F1-Score')\n",
        "\n",
        "ax.set_ylabel('Score')\n",
        "ax.set_title(model_name+': Classification Metrics')\n",
        "ax.set_xticks(x)\n",
        "ax.set_xticklabels(custom_labels)\n",
        "ax.legend()\n",
        "\n",
        "plt.show()"
      ],
      "metadata": {
        "colab": {
          "base_uri": "https://localhost:8080/",
          "height": 816
        },
        "id": "xCMywQ4qvupq",
        "outputId": "82d300ac-dd1f-4459-accc-8277dee1a43e"
      },
      "execution_count": null,
      "outputs": [
        {
          "output_type": "stream",
          "name": "stderr",
          "text": [
            "/usr/local/lib/python3.10/dist-packages/sklearn/linear_model/_logistic.py:458: ConvergenceWarning: lbfgs failed to converge (status=1):\n",
            "STOP: TOTAL NO. of ITERATIONS REACHED LIMIT.\n",
            "\n",
            "Increase the number of iterations (max_iter) or scale the data as shown in:\n",
            "    https://scikit-learn.org/stable/modules/preprocessing.html\n",
            "Please also refer to the documentation for alternative solver options:\n",
            "    https://scikit-learn.org/stable/modules/linear_model.html#logistic-regression\n",
            "  n_iter_i = _check_optimize_result(\n"
          ]
        },
        {
          "output_type": "stream",
          "name": "stdout",
          "text": [
            "              precision    recall  f1-score   support\n",
            "\n",
            "           0       0.88      0.88      0.88       678\n",
            "           1       0.85      0.82      0.83       593\n",
            "           2       0.90      0.93      0.92      1690\n",
            "           3       0.84      0.78      0.81       410\n",
            "           4       0.92      0.93      0.93      1449\n",
            "           5       0.78      0.69      0.73       180\n",
            "\n",
            "    accuracy                           0.89      5000\n",
            "   macro avg       0.86      0.84      0.85      5000\n",
            "weighted avg       0.89      0.89      0.89      5000\n",
            "\n"
          ]
        },
        {
          "output_type": "display_data",
          "data": {
            "text/plain": [
              "<Figure size 640x480 with 1 Axes>"
            ],
            "image/png": "[encoded data removed]"
          },
          "metadata": {}
        }
      ]
    },
    {
      "cell_type": "code",
      "source": [
        "from sklearn import linear_model\n",
        "from sklearn import metrics\n",
        "\n",
        "output = build(linear_model.LogisticRegression(), tv_xtrain, Ytrain , tv_xtest)\n",
        "print(\"Accuracy using count tfidf: \",output)"
      ],
      "metadata": {
        "colab": {
          "base_uri": "https://localhost:8080/"
        },
        "id": "oh9daGEB3aAe",
        "outputId": "9d98a11a-4cfa-4051-d3df-17b1c6c3ea2b"
      },
      "execution_count": null,
      "outputs": [
        {
          "output_type": "stream",
          "name": "stdout",
          "text": [
            "Accuracy using count tfidf:  0.86\n"
          ]
        },
        {
          "output_type": "stream",
          "name": "stderr",
          "text": [
            "/usr/local/lib/python3.10/dist-packages/sklearn/linear_model/_logistic.py:458: ConvergenceWarning: lbfgs failed to converge (status=1):\n",
            "STOP: TOTAL NO. of ITERATIONS REACHED LIMIT.\n",
            "\n",
            "Increase the number of iterations (max_iter) or scale the data as shown in:\n",
            "    https://scikit-learn.org/stable/modules/preprocessing.html\n",
            "Please also refer to the documentation for alternative solver options:\n",
            "    https://scikit-learn.org/stable/modules/linear_model.html#logistic-regression\n",
            "  n_iter_i = _check_optimize_result(\n"
          ]
        }
      ]
    },
    {
      "cell_type": "code",
      "source": [
        "\n",
        "\n",
        "# Train the classifier\n",
        "classifier = linear_model.LogisticRegression().fit(tv_xtrain, Ytrain)\n",
        "model_name = \"Logistic Regression TF-IDF\"\n",
        "\n",
        "# Make predictions\n",
        "val_predictions = classifier.predict(tv_xtest)\n",
        "y_true, y_pred = Ytest, val_predictions\n",
        "# Generate classification report\n",
        "report = classification_report(y_true, y_pred, output_dict=True)\n",
        "print(classification_report(y_true, y_pred))\n",
        "custom_labels = ['Anger', 'Fear', 'Joy', 'Love', 'Sadness', 'Surprise']\n",
        "\n",
        "\n",
        "# Extract precision, recall, and F1-score from the report\n",
        "classes = list(report.keys())[:-3]\n",
        "precision = [report[class_name]['precision'] for class_name in classes]\n",
        "recall = [report[class_name]['recall'] for class_name in classes]\n",
        "f1_score = [report[class_name]['f1-score'] for class_name in classes]\n",
        "\n",
        "# Plotting the results\n",
        "x = np.arange(len(classes))\n",
        "width = 0.3\n",
        "\n",
        "fig, ax = plt.subplots()\n",
        "rects1 = ax.bar(x - width, precision, width, label='Precision')\n",
        "rects2 = ax.bar(x, recall, width, label='Recall')\n",
        "rects3 = ax.bar(x + width, f1_score, width, label='F1-Score')\n",
        "\n",
        "ax.set_ylabel('Score')\n",
        "ax.set_title(model_name+': Classification Metrics')\n",
        "ax.set_xticks(x)\n",
        "ax.set_xticklabels(custom_labels)\n",
        "ax.legend()\n",
        "\n",
        "plt.show()"
      ],
      "metadata": {
        "colab": {
          "base_uri": "https://localhost:8080/",
          "height": 816
        },
        "id": "1AhIpzitw9uj",
        "outputId": "057c28cd-64d0-42c9-d15a-500d7cc99ac2"
      },
      "execution_count": null,
      "outputs": [
        {
          "output_type": "stream",
          "name": "stderr",
          "text": [
            "/usr/local/lib/python3.10/dist-packages/sklearn/linear_model/_logistic.py:458: ConvergenceWarning: lbfgs failed to converge (status=1):\n",
            "STOP: TOTAL NO. of ITERATIONS REACHED LIMIT.\n",
            "\n",
            "Increase the number of iterations (max_iter) or scale the data as shown in:\n",
            "    https://scikit-learn.org/stable/modules/preprocessing.html\n",
            "Please also refer to the documentation for alternative solver options:\n",
            "    https://scikit-learn.org/stable/modules/linear_model.html#logistic-regression\n",
            "  n_iter_i = _check_optimize_result(\n"
          ]
        },
        {
          "output_type": "stream",
          "name": "stdout",
          "text": [
            "              precision    recall  f1-score   support\n",
            "\n",
            "           0       0.89      0.81      0.85       678\n",
            "           1       0.86      0.75      0.80       593\n",
            "           2       0.82      0.96      0.88      1690\n",
            "           3       0.90      0.60      0.72       410\n",
            "           4       0.89      0.94      0.91      1449\n",
            "           5       0.90      0.49      0.63       180\n",
            "\n",
            "    accuracy                           0.86      5000\n",
            "   macro avg       0.88      0.76      0.80      5000\n",
            "weighted avg       0.86      0.86      0.85      5000\n",
            "\n"
          ]
        },
        {
          "output_type": "display_data",
          "data": {
            "text/plain": [
              "<Figure size 640x480 with 1 Axes>"
            ],
            "image/png": "[encoded data removed]"
          },
          "metadata": {}
        }
      ]
    },
    {
      "cell_type": "code",
      "source": [
        "from sklearn import svm\n",
        "from sklearn import metrics\n",
        "\n",
        "output = build(svm.SVC(), cv_xtrain, Ytrain , cv_xtest)\n",
        "print(\"Accuracy using count vectorizer: \",output)"
      ],
      "metadata": {
        "colab": {
          "base_uri": "https://localhost:8080/"
        },
        "id": "ORQm_Nld3buS",
        "outputId": "fe255fc4-d3a7-4bf4-970b-340fa65f6872"
      },
      "execution_count": null,
      "outputs": [
        {
          "output_type": "stream",
          "name": "stdout",
          "text": [
            "Accuracy using count vectorizer:  0.8184\n"
          ]
        }
      ]
    },
    {
      "cell_type": "code",
      "source": [
        "\n",
        "\n",
        "# Train the classifier\n",
        "classifier = svm.SVC().fit(cv_xtrain, Ytrain)\n",
        "model_name = \"Support-Vector Machine Count Vectors\"\n",
        "\n",
        "# Make predictions\n",
        "val_predictions = classifier.predict(cv_xtest)\n",
        "y_true, y_pred = Ytest, val_predictions\n",
        "# Generate classification report\n",
        "report = classification_report(y_true, y_pred, output_dict=True)\n",
        "print(classification_report(y_true, y_pred))\n",
        "custom_labels = ['Anger', 'Fear', 'Joy', 'Love', 'Sadness', 'Surprise']\n",
        "\n",
        "\n",
        "# Extract precision, recall, and F1-score from the report\n",
        "classes = list(report.keys())[:-3]\n",
        "precision = [report[class_name]['precision'] for class_name in classes]\n",
        "recall = [report[class_name]['recall'] for class_name in classes]\n",
        "f1_score = [report[class_name]['f1-score'] for class_name in classes]\n",
        "\n",
        "# Plotting the results\n",
        "x = np.arange(len(classes))\n",
        "width = 0.3\n",
        "\n",
        "fig, ax = plt.subplots()\n",
        "rects1 = ax.bar(x - width, precision, width, label='Precision')\n",
        "rects2 = ax.bar(x, recall, width, label='Recall')\n",
        "rects3 = ax.bar(x + width, f1_score, width, label='F1-Score')\n",
        "\n",
        "ax.set_ylabel('Score')\n",
        "ax.set_title(model_name+': Classification Metrics')\n",
        "ax.set_xticks(x)\n",
        "ax.set_xticklabels(custom_labels)\n",
        "ax.legend()\n",
        "\n",
        "plt.show()"
      ],
      "metadata": {
        "colab": {
          "base_uri": "https://localhost:8080/",
          "height": 678
        },
        "id": "gimPXKDXxyD1",
        "outputId": "f101698a-1fef-4087-9d4d-11cf6d3d6fda"
      },
      "execution_count": null,
      "outputs": [
        {
          "output_type": "stream",
          "name": "stdout",
          "text": [
            "              precision    recall  f1-score   support\n",
            "\n",
            "           0       0.89      0.72      0.79       678\n",
            "           1       0.82      0.68      0.75       593\n",
            "           2       0.74      0.95      0.83      1690\n",
            "           3       0.90      0.47      0.62       410\n",
            "           4       0.89      0.91      0.90      1449\n",
            "           5       0.88      0.44      0.59       180\n",
            "\n",
            "    accuracy                           0.82      5000\n",
            "   macro avg       0.85      0.70      0.75      5000\n",
            "weighted avg       0.83      0.82      0.81      5000\n",
            "\n"
          ]
        },
        {
          "output_type": "display_data",
          "data": {
            "text/plain": [
              "<Figure size 640x480 with 1 Axes>"
            ],
            "image/png": "[encoded data removed]"
          },
          "metadata": {}
        }
      ]
    },
    {
      "cell_type": "code",
      "source": [
        "from sklearn import svm\n",
        "from sklearn import metrics\n",
        "\n",
        "output = build(svm.SVC(), tv_xtrain, Ytrain , tv_xtest)\n",
        "print(\"Accuracy using count tfidf: \",output)"
      ],
      "metadata": {
        "colab": {
          "base_uri": "https://localhost:8080/"
        },
        "id": "Pg8lcKQa3kiB",
        "outputId": "3b67621a-9464-4228-d8c3-34093d90b643"
      },
      "execution_count": null,
      "outputs": [
        {
          "output_type": "stream",
          "name": "stdout",
          "text": [
            "Accuracy using count tfidf:  0.8448\n"
          ]
        }
      ]
    },
    {
      "cell_type": "code",
      "source": [
        "\n",
        "\n",
        "# Train the classifier\n",
        "classifier = svm.SVC().fit(tv_xtrain, Ytrain)\n",
        "model_name = \"Support-Vector Machine TF-IDF\"\n",
        "\n",
        "# Make predictions\n",
        "val_predictions = classifier.predict(tv_xtest)\n",
        "y_true, y_pred = Ytest, val_predictions\n",
        "# Generate classification report\n",
        "report = classification_report(y_true, y_pred, output_dict=True)\n",
        "print(classification_report(y_true, y_pred))\n",
        "custom_labels = ['Anger', 'Fear', 'Joy', 'Love', 'Sadness', 'Surprise']\n",
        "\n",
        "\n",
        "# Extract precision, recall, and F1-score from the report\n",
        "classes = list(report.keys())[:-3]\n",
        "precision = [report[class_name]['precision'] for class_name in classes]\n",
        "recall = [report[class_name]['recall'] for class_name in classes]\n",
        "f1_score = [report[class_name]['f1-score'] for class_name in classes]\n",
        "\n",
        "# Plotting the results\n",
        "x = np.arange(len(classes))\n",
        "width = 0.3\n",
        "\n",
        "fig, ax = plt.subplots()\n",
        "rects1 = ax.bar(x - width, precision, width, label='Precision')\n",
        "rects2 = ax.bar(x, recall, width, label='Recall')\n",
        "rects3 = ax.bar(x + width, f1_score, width, label='F1-Score')\n",
        "\n",
        "ax.set_ylabel('Score')\n",
        "ax.set_title(model_name+': Classification Metrics')\n",
        "ax.set_xticks(x)\n",
        "ax.set_xticklabels(custom_labels)\n",
        "ax.legend()\n",
        "\n",
        "plt.show()"
      ],
      "metadata": {
        "colab": {
          "base_uri": "https://localhost:8080/",
          "height": 678
        },
        "id": "TdsO-1wFyB7l",
        "outputId": "733db981-286f-427f-ce64-7ddb5b49e543"
      },
      "execution_count": null,
      "outputs": [
        {
          "output_type": "stream",
          "name": "stdout",
          "text": [
            "              precision    recall  f1-score   support\n",
            "\n",
            "           0       0.89      0.78      0.83       678\n",
            "           1       0.83      0.74      0.78       593\n",
            "           2       0.79      0.95      0.86      1690\n",
            "           3       0.90      0.53      0.67       410\n",
            "           4       0.90      0.93      0.91      1449\n",
            "           5       0.84      0.48      0.61       180\n",
            "\n",
            "    accuracy                           0.84      5000\n",
            "   macro avg       0.86      0.73      0.78      5000\n",
            "weighted avg       0.85      0.84      0.84      5000\n",
            "\n"
          ]
        },
        {
          "output_type": "display_data",
          "data": {
            "text/plain": [
              "<Figure size 640x480 with 1 Axes>"
            ],
            "image/png": "[encoded data removed]"
          },
          "metadata": {}
        }
      ]
    },
    {
      "cell_type": "code",
      "source": [
        "from sklearn import ensemble\n",
        "from sklearn import metrics\n",
        "\n",
        "output = build(ensemble.RandomForestClassifier(), cv_xtrain, Ytrain , cv_xtest)\n",
        "print(\"Accuracy using count vectorizer: \",output)"
      ],
      "metadata": {
        "colab": {
          "base_uri": "https://localhost:8080/"
        },
        "id": "-BWoJxIw3mx8",
        "outputId": "60d6a40e-a58e-4585-de2a-61db0d7e4875"
      },
      "execution_count": null,
      "outputs": [
        {
          "output_type": "stream",
          "name": "stdout",
          "text": [
            "Accuracy using count vectorizer:  0.8828\n"
          ]
        }
      ]
    },
    {
      "cell_type": "code",
      "source": [
        "\n",
        "\n",
        "# Train the classifier\n",
        "classifier = ensemble.RandomForestClassifier().fit(cv_xtrain, Ytrain)\n",
        "model_name = \"Random Forest Count Vectors\"\n",
        "\n",
        "# Make predictions\n",
        "val_predictions = classifier.predict(cv_xtest)\n",
        "y_true, y_pred = Ytest, val_predictions\n",
        "# Generate classification report\n",
        "report = classification_report(y_true, y_pred, output_dict=True)\n",
        "print(classification_report(y_true, y_pred))\n",
        "custom_labels = ['Anger', 'Fear', 'Joy', 'Love', 'Sadness', 'Surprise']\n",
        "\n",
        "\n",
        "# Extract precision, recall, and F1-score from the report\n",
        "classes = list(report.keys())[:-3]\n",
        "precision = [report[class_name]['precision'] for class_name in classes]\n",
        "recall = [report[class_name]['recall'] for class_name in classes]\n",
        "f1_score = [report[class_name]['f1-score'] for class_name in classes]\n",
        "\n",
        "# Plotting the results\n",
        "x = np.arange(len(classes))\n",
        "width = 0.3\n",
        "\n",
        "fig, ax = plt.subplots()\n",
        "rects1 = ax.bar(x - width, precision, width, label='Precision')\n",
        "rects2 = ax.bar(x, recall, width, label='Recall')\n",
        "rects3 = ax.bar(x + width, f1_score, width, label='F1-Score')\n",
        "\n",
        "ax.set_ylabel('Score')\n",
        "ax.set_title(model_name+': Classification Metrics')\n",
        "ax.set_xticks(x)\n",
        "ax.set_xticklabels(custom_labels)\n",
        "ax.legend()\n",
        "\n",
        "plt.show()\n"
      ],
      "metadata": {
        "outputId": "fb128ef5-4c5c-4fc0-8419-9130a0d2a044",
        "colab": {
          "base_uri": "https://localhost:8080/",
          "height": 678
        },
        "id": "UnbKrjlSYB1T"
      },
      "execution_count": null,
      "outputs": [
        {
          "output_type": "stream",
          "name": "stdout",
          "text": [
            "              precision    recall  f1-score   support\n",
            "\n",
            "           0       0.85      0.91      0.88       678\n",
            "           1       0.84      0.83      0.84       593\n",
            "           2       0.90      0.90      0.90      1690\n",
            "           3       0.81      0.72      0.76       410\n",
            "           4       0.92      0.92      0.92      1449\n",
            "           5       0.74      0.76      0.75       180\n",
            "\n",
            "    accuracy                           0.88      5000\n",
            "   macro avg       0.84      0.84      0.84      5000\n",
            "weighted avg       0.88      0.88      0.88      5000\n",
            "\n"
          ]
        },
        {
          "output_type": "display_data",
          "data": {
            "text/plain": [
              "<Figure size 640x480 with 1 Axes>"
            ],
            "image/png": "[encoded data removed]"
          },
          "metadata": {}
        }
      ]
    },
    {
      "cell_type": "code",
      "source": [
        "from sklearn import ensemble\n",
        "from sklearn import metrics\n",
        "\n",
        "output = build(ensemble.RandomForestClassifier(), tv_xtrain, Ytrain , tv_xtest)\n",
        "print(\"Accuracy using count tfidf: \",output)"
      ],
      "metadata": {
        "colab": {
          "base_uri": "https://localhost:8080/"
        },
        "id": "ONTPZBA13ozt",
        "outputId": "81fd86e2-5a77-48a1-a1e5-6c7bdf17bff8"
      },
      "execution_count": null,
      "outputs": [
        {
          "output_type": "stream",
          "name": "stdout",
          "text": [
            "Accuracy using count tfidf:  0.8784\n"
          ]
        }
      ]
    },
    {
      "cell_type": "code",
      "source": [
        "\n",
        "\n",
        "# Train the classifier\n",
        "classifier = ensemble.RandomForestClassifier().fit(cv_xtrain, Ytrain)\n",
        "model_name = \"Random Forest TF-IDF Vectors \"\n",
        "\n",
        "# Make predictions\n",
        "val_predictions = classifier.predict(cv_xtest)\n",
        "y_true, y_pred = Ytest, val_predictions\n",
        "# Generate classification report\n",
        "report = classification_report(y_true, y_pred, output_dict=True)\n",
        "print(classification_report(y_true, y_pred))\n",
        "custom_labels = ['Anger', 'Fear', 'Joy', 'Love', 'Sadness', 'Surprise']\n",
        "\n",
        "\n",
        "# Extract precision, recall, and F1-score from the report\n",
        "classes = list(report.keys())[:-3]\n",
        "precision = [report[class_name]['precision'] for class_name in classes]\n",
        "recall = [report[class_name]['recall'] for class_name in classes]\n",
        "f1_score = [report[class_name]['f1-score'] for class_name in classes]\n",
        "\n",
        "# Plotting the results\n",
        "x = np.arange(len(classes))\n",
        "width = 0.3\n",
        "\n",
        "fig, ax = plt.subplots()\n",
        "rects1 = ax.bar(x - width, precision, width, label='Precision')\n",
        "rects2 = ax.bar(x, recall, width, label='Recall')\n",
        "rects3 = ax.bar(x + width, f1_score, width, label='F1-Score')\n",
        "\n",
        "ax.set_ylabel('Score')\n",
        "ax.set_title(model_name+': Classification Metrics')\n",
        "ax.set_xticks(x)\n",
        "ax.set_xticklabels(custom_labels)\n",
        "ax.legend()\n",
        "\n",
        "plt.show()"
      ],
      "metadata": {
        "outputId": "e8e307a2-a122-4810-8a3d-7acc88344eff",
        "colab": {
          "base_uri": "https://localhost:8080/",
          "height": 678
        },
        "id": "5u11eSmYajRl"
      },
      "execution_count": null,
      "outputs": [
        {
          "output_type": "stream",
          "name": "stdout",
          "text": [
            "              precision    recall  f1-score   support\n",
            "\n",
            "           0       0.84      0.91      0.88       678\n",
            "           1       0.83      0.85      0.84       593\n",
            "           2       0.91      0.90      0.90      1690\n",
            "           3       0.80      0.75      0.77       410\n",
            "           4       0.93      0.92      0.92      1449\n",
            "           5       0.79      0.73      0.76       180\n",
            "\n",
            "    accuracy                           0.88      5000\n",
            "   macro avg       0.85      0.84      0.85      5000\n",
            "weighted avg       0.88      0.88      0.88      5000\n",
            "\n"
          ]
        },
        {
          "output_type": "display_data",
          "data": {
            "text/plain": [
              "<Figure size 640x480 with 1 Axes>"
            ],
            "image/png": "[encoded data removed]"
          },
          "metadata": {}
        }
      ]
    },
    {
      "cell_type": "code",
      "source": [
        "import matplotlib.pyplot as plt\n",
        "import numpy as np\n",
        "\n",
        "# Define the models and their corresponding accuracy values\n",
        "models = [\n",
        "    'Naive Bayes',\n",
        "    'Logistic Regression',\n",
        "    'SVM',\n",
        "    'Random Forest'\n",
        "]\n",
        "accuracies_cv = [0.7702, 0.89, 0.8184, 0.8828]\n",
        "accuracies_tfidf = [0.66 ,  0.86,  0.84 , 0.88]\n",
        "\n",
        "# Set the width of each bar\n",
        "bar_width = 0.35\n",
        "\n",
        "# Set the positions of the bars on the x-axis\n",
        "bar_positions = np.arange(len(models))\n",
        "\n",
        "# Create the figure and axes\n",
        "fig, ax = plt.subplots()\n",
        "\n",
        "# Create the bars for CV accuracy\n",
        "ax.bar(bar_positions - bar_width/2, accuracies_cv, width=bar_width, color='pink', label='CV')\n",
        "\n",
        "# Create the bars for TF-IDF accuracy\n",
        "ax.bar(bar_positions + bar_width/2, accuracies_tfidf, width=bar_width, color='lightblue', label='TF-IDF')\n",
        "\n",
        "# Set the x-axis ticks and labels\n",
        "ax.set_xticks(bar_positions)\n",
        "ax.set_xticklabels(models, rotation=45)\n",
        "\n",
        "# Set the y-axis label\n",
        "ax.set_ylabel('Accuracy')\n",
        "\n",
        "# Set the title\n",
        "ax.set_title('Model Comparison: Accuracy')\n",
        "\n",
        "# Add a legend\n",
        "ax.legend()\n",
        "\n",
        "# Display the plot\n",
        "plt.tight_layout()\n",
        "plt.show()\n"
      ],
      "metadata": {
        "colab": {
          "base_uri": "https://localhost:8080/",
          "height": 487
        },
        "id": "P2S46C3_hSDI",
        "outputId": "6958c1d6-20fb-467e-a04a-f81b5f23c5c7"
      },
      "execution_count": null,
      "outputs": [
        {
          "output_type": "display_data",
          "data": {
            "text/plain": [
              "<Figure size 640x480 with 1 Axes>"
            ],
            "image/png": "[encoded data removed]"
          },
          "metadata": {}
        }
      ]
    }
  ]
}